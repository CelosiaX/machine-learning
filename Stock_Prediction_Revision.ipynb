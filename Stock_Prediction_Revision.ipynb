{
 "cells": [
  {
   "cell_type": "markdown",
   "id": "a35eda47",
   "metadata": {
    "id": "a35eda47"
   },
   "source": [
    "# For Google Colab Users , Please Install This"
   ]
  },
  {
   "cell_type": "code",
   "execution_count": 1,
   "id": "94cebee0",
   "metadata": {
    "colab": {
     "base_uri": "https://localhost:8080/"
    },
    "id": "94cebee0",
    "outputId": "3dc3b554-cf58-48e4-a9c4-9300cb087eaf"
   },
   "outputs": [
    {
     "name": "stdout",
     "output_type": "stream",
     "text": [
      "Requirement already satisfied: pandas in c:\\users\\user\\anaconda3\\lib\\site-packages (1.3.4)\n",
      "Requirement already satisfied: numpy in c:\\users\\user\\anaconda3\\lib\\site-packages (1.22.1)\n",
      "Requirement already satisfied: matplotlib in c:\\users\\user\\anaconda3\\lib\\site-packages (3.4.3)\n",
      "Requirement already satisfied: sklearn in c:\\users\\user\\anaconda3\\lib\\site-packages (0.0)\n",
      "Requirement already satisfied: seaborn in c:\\users\\user\\anaconda3\\lib\\site-packages (0.11.2)\n",
      "Requirement already satisfied: yfinance in c:\\users\\user\\anaconda3\\lib\\site-packages (0.1.70)\n",
      "Requirement already satisfied: datetime in c:\\users\\user\\anaconda3\\lib\\site-packages (4.4)\n",
      "Requirement already satisfied: pytz>=2017.3 in c:\\users\\user\\anaconda3\\lib\\site-packages (from pandas) (2021.3)\n",
      "Requirement already satisfied: python-dateutil>=2.7.3 in c:\\users\\user\\anaconda3\\lib\\site-packages (from pandas) (2.8.2)\n",
      "Requirement already satisfied: cycler>=0.10 in c:\\users\\user\\anaconda3\\lib\\site-packages (from matplotlib) (0.10.0)\n",
      "Requirement already satisfied: kiwisolver>=1.0.1 in c:\\users\\user\\anaconda3\\lib\\site-packages (from matplotlib) (1.3.1)\n",
      "Requirement already satisfied: pillow>=6.2.0 in c:\\users\\user\\anaconda3\\lib\\site-packages (from matplotlib) (8.4.0)\n",
      "Requirement already satisfied: pyparsing>=2.2.1 in c:\\users\\user\\anaconda3\\lib\\site-packages (from matplotlib) (3.0.4)\n",
      "Requirement already satisfied: scikit-learn in c:\\users\\user\\anaconda3\\lib\\site-packages (from sklearn) (1.0.2)\n",
      "Requirement already satisfied: scipy>=1.0 in c:\\users\\user\\anaconda3\\lib\\site-packages (from seaborn) (1.7.3)\n",
      "Requirement already satisfied: lxml>=4.5.1 in c:\\users\\user\\anaconda3\\lib\\site-packages (from yfinance) (4.6.3)\n",
      "Requirement already satisfied: requests>=2.26 in c:\\users\\user\\anaconda3\\lib\\site-packages (from yfinance) (2.26.0)\n",
      "Requirement already satisfied: multitasking>=0.0.7 in c:\\users\\user\\anaconda3\\lib\\site-packages (from yfinance) (0.0.10)\n",
      "Requirement already satisfied: zope.interface in c:\\users\\user\\anaconda3\\lib\\site-packages (from datetime) (5.4.0)\n",
      "Requirement already satisfied: six in c:\\users\\user\\anaconda3\\lib\\site-packages (from cycler>=0.10->matplotlib) (1.16.0)\n",
      "Requirement already satisfied: urllib3<1.27,>=1.21.1 in c:\\users\\user\\anaconda3\\lib\\site-packages (from requests>=2.26->yfinance) (1.26.7)\n",
      "Requirement already satisfied: idna<4,>=2.5 in c:\\users\\user\\anaconda3\\lib\\site-packages (from requests>=2.26->yfinance) (3.2)\n",
      "Requirement already satisfied: charset-normalizer~=2.0.0 in c:\\users\\user\\anaconda3\\lib\\site-packages (from requests>=2.26->yfinance) (2.0.4)\n",
      "Requirement already satisfied: certifi>=2017.4.17 in c:\\users\\user\\anaconda3\\lib\\site-packages (from requests>=2.26->yfinance) (2021.10.8)\n",
      "Requirement already satisfied: joblib>=0.11 in c:\\users\\user\\anaconda3\\lib\\site-packages (from scikit-learn->sklearn) (1.1.0)\n",
      "Requirement already satisfied: threadpoolctl>=2.0.0 in c:\\users\\user\\anaconda3\\lib\\site-packages (from scikit-learn->sklearn) (2.2.0)\n",
      "Requirement already satisfied: setuptools in c:\\users\\user\\anaconda3\\lib\\site-packages (from zope.interface->datetime) (58.0.4)\n"
     ]
    }
   ],
   "source": [
    "!pip install pandas numpy matplotlib sklearn seaborn yfinance datetime"
   ]
  },
  {
   "cell_type": "markdown",
   "id": "4ee69c8d",
   "metadata": {
    "id": "4ee69c8d"
   },
   "source": [
    "# Import the Datasets and the Library"
   ]
  },
  {
   "cell_type": "code",
   "execution_count": 2,
   "id": "d7451fb2",
   "metadata": {
    "id": "d7451fb2"
   },
   "outputs": [],
   "source": [
    "import pandas as pd\n",
    "import numpy as np\n",
    "import matplotlib.pyplot as plt\n",
    "import seaborn as sns\n",
    "import yfinance as yf\n",
    "from datetime import datetime"
   ]
  },
  {
   "cell_type": "code",
   "execution_count": 3,
   "id": "141fef6a",
   "metadata": {
    "id": "141fef6a"
   },
   "outputs": [],
   "source": [
    "end = datetime.now()\n",
    "start = datetime(end.year - 1, end.month, end.day)\n",
    "stock_list = 'INDF.JK'"
   ]
  },
  {
   "cell_type": "code",
   "execution_count": 4,
   "id": "3267b4cb",
   "metadata": {
    "colab": {
     "base_uri": "https://localhost:8080/"
    },
    "id": "3267b4cb",
    "outputId": "3987c06c-a881-4b97-e371-1cd28857a258"
   },
   "outputs": [
    {
     "name": "stdout",
     "output_type": "stream",
     "text": [
      "[*********************100%***********************]  1 of 1 completed\n"
     ]
    }
   ],
   "source": [
    "datasets = yf.download(stock_list,start,end)"
   ]
  },
  {
   "cell_type": "code",
   "execution_count": 5,
   "id": "ed2897c7",
   "metadata": {
    "id": "ed2897c7"
   },
   "outputs": [],
   "source": [
    "datasets.to_csv('datasets.CSV')"
   ]
  },
  {
   "cell_type": "code",
   "execution_count": 6,
   "id": "578530ec",
   "metadata": {
    "id": "578530ec"
   },
   "outputs": [],
   "source": [
    "df = pd.read_csv('datasets.CSV')"
   ]
  },
  {
   "cell_type": "code",
   "execution_count": 7,
   "id": "9ba8b815",
   "metadata": {
    "colab": {
     "base_uri": "https://localhost:8080/",
     "height": 424
    },
    "id": "9ba8b815",
    "outputId": "213199e8-0a36-4a65-90a7-957aa297a335"
   },
   "outputs": [
    {
     "data": {
      "text/html": [
       "<div>\n",
       "<style scoped>\n",
       "    .dataframe tbody tr th:only-of-type {\n",
       "        vertical-align: middle;\n",
       "    }\n",
       "\n",
       "    .dataframe tbody tr th {\n",
       "        vertical-align: top;\n",
       "    }\n",
       "\n",
       "    .dataframe thead th {\n",
       "        text-align: right;\n",
       "    }\n",
       "</style>\n",
       "<table border=\"1\" class=\"dataframe\">\n",
       "  <thead>\n",
       "    <tr style=\"text-align: right;\">\n",
       "      <th></th>\n",
       "      <th>Date</th>\n",
       "      <th>Open</th>\n",
       "      <th>High</th>\n",
       "      <th>Low</th>\n",
       "      <th>Close</th>\n",
       "      <th>Adj Close</th>\n",
       "      <th>Volume</th>\n",
       "    </tr>\n",
       "  </thead>\n",
       "  <tbody>\n",
       "    <tr>\n",
       "      <th>0</th>\n",
       "      <td>2021-10-25</td>\n",
       "      <td>6675.0</td>\n",
       "      <td>6725.0</td>\n",
       "      <td>6625.0</td>\n",
       "      <td>6650.0</td>\n",
       "      <td>6382.072266</td>\n",
       "      <td>6118400</td>\n",
       "    </tr>\n",
       "    <tr>\n",
       "      <th>1</th>\n",
       "      <td>2021-10-26</td>\n",
       "      <td>6700.0</td>\n",
       "      <td>6725.0</td>\n",
       "      <td>6600.0</td>\n",
       "      <td>6675.0</td>\n",
       "      <td>6406.064941</td>\n",
       "      <td>7012800</td>\n",
       "    </tr>\n",
       "    <tr>\n",
       "      <th>2</th>\n",
       "      <td>2021-10-27</td>\n",
       "      <td>6625.0</td>\n",
       "      <td>6675.0</td>\n",
       "      <td>6450.0</td>\n",
       "      <td>6475.0</td>\n",
       "      <td>6214.123047</td>\n",
       "      <td>9480800</td>\n",
       "    </tr>\n",
       "    <tr>\n",
       "      <th>3</th>\n",
       "      <td>2021-10-28</td>\n",
       "      <td>6450.0</td>\n",
       "      <td>6500.0</td>\n",
       "      <td>6350.0</td>\n",
       "      <td>6400.0</td>\n",
       "      <td>6142.144531</td>\n",
       "      <td>10016800</td>\n",
       "    </tr>\n",
       "    <tr>\n",
       "      <th>4</th>\n",
       "      <td>2021-10-29</td>\n",
       "      <td>6400.0</td>\n",
       "      <td>6475.0</td>\n",
       "      <td>6350.0</td>\n",
       "      <td>6350.0</td>\n",
       "      <td>6094.159180</td>\n",
       "      <td>8757400</td>\n",
       "    </tr>\n",
       "    <tr>\n",
       "      <th>...</th>\n",
       "      <td>...</td>\n",
       "      <td>...</td>\n",
       "      <td>...</td>\n",
       "      <td>...</td>\n",
       "      <td>...</td>\n",
       "      <td>...</td>\n",
       "      <td>...</td>\n",
       "    </tr>\n",
       "    <tr>\n",
       "      <th>242</th>\n",
       "      <td>2022-10-19</td>\n",
       "      <td>6200.0</td>\n",
       "      <td>6250.0</td>\n",
       "      <td>6125.0</td>\n",
       "      <td>6225.0</td>\n",
       "      <td>6225.000000</td>\n",
       "      <td>12959800</td>\n",
       "    </tr>\n",
       "    <tr>\n",
       "      <th>243</th>\n",
       "      <td>2022-10-20</td>\n",
       "      <td>6225.0</td>\n",
       "      <td>6350.0</td>\n",
       "      <td>6200.0</td>\n",
       "      <td>6350.0</td>\n",
       "      <td>6350.000000</td>\n",
       "      <td>12801200</td>\n",
       "    </tr>\n",
       "    <tr>\n",
       "      <th>244</th>\n",
       "      <td>2022-10-21</td>\n",
       "      <td>6350.0</td>\n",
       "      <td>6375.0</td>\n",
       "      <td>6275.0</td>\n",
       "      <td>6275.0</td>\n",
       "      <td>6275.000000</td>\n",
       "      <td>7353500</td>\n",
       "    </tr>\n",
       "    <tr>\n",
       "      <th>245</th>\n",
       "      <td>2022-10-24</td>\n",
       "      <td>6300.0</td>\n",
       "      <td>6350.0</td>\n",
       "      <td>6275.0</td>\n",
       "      <td>6300.0</td>\n",
       "      <td>6300.000000</td>\n",
       "      <td>7061800</td>\n",
       "    </tr>\n",
       "    <tr>\n",
       "      <th>246</th>\n",
       "      <td>2022-10-25</td>\n",
       "      <td>6300.0</td>\n",
       "      <td>6325.0</td>\n",
       "      <td>6200.0</td>\n",
       "      <td>6200.0</td>\n",
       "      <td>6200.000000</td>\n",
       "      <td>11870200</td>\n",
       "    </tr>\n",
       "  </tbody>\n",
       "</table>\n",
       "<p>247 rows × 7 columns</p>\n",
       "</div>"
      ],
      "text/plain": [
       "           Date    Open    High     Low   Close    Adj Close    Volume\n",
       "0    2021-10-25  6675.0  6725.0  6625.0  6650.0  6382.072266   6118400\n",
       "1    2021-10-26  6700.0  6725.0  6600.0  6675.0  6406.064941   7012800\n",
       "2    2021-10-27  6625.0  6675.0  6450.0  6475.0  6214.123047   9480800\n",
       "3    2021-10-28  6450.0  6500.0  6350.0  6400.0  6142.144531  10016800\n",
       "4    2021-10-29  6400.0  6475.0  6350.0  6350.0  6094.159180   8757400\n",
       "..          ...     ...     ...     ...     ...          ...       ...\n",
       "242  2022-10-19  6200.0  6250.0  6125.0  6225.0  6225.000000  12959800\n",
       "243  2022-10-20  6225.0  6350.0  6200.0  6350.0  6350.000000  12801200\n",
       "244  2022-10-21  6350.0  6375.0  6275.0  6275.0  6275.000000   7353500\n",
       "245  2022-10-24  6300.0  6350.0  6275.0  6300.0  6300.000000   7061800\n",
       "246  2022-10-25  6300.0  6325.0  6200.0  6200.0  6200.000000  11870200\n",
       "\n",
       "[247 rows x 7 columns]"
      ]
     },
     "execution_count": 7,
     "metadata": {},
     "output_type": "execute_result"
    }
   ],
   "source": [
    "df"
   ]
  },
  {
   "cell_type": "code",
   "execution_count": 8,
   "id": "c1b88073",
   "metadata": {
    "colab": {
     "base_uri": "https://localhost:8080/"
    },
    "id": "c1b88073",
    "outputId": "924b84fb-125d-4a77-80e2-b701ffc07c88"
   },
   "outputs": [
    {
     "data": {
      "text/plain": [
       "Index(['Date', 'Open', 'High', 'Low', 'Close', 'Adj Close', 'Volume'], dtype='object')"
      ]
     },
     "execution_count": 8,
     "metadata": {},
     "output_type": "execute_result"
    }
   ],
   "source": [
    "df.columns"
   ]
  },
  {
   "cell_type": "markdown",
   "id": "08553c8e",
   "metadata": {
    "id": "08553c8e"
   },
   "source": [
    "# Analyzing the Data"
   ]
  },
  {
   "cell_type": "code",
   "execution_count": 9,
   "id": "85924bc3",
   "metadata": {
    "colab": {
     "base_uri": "https://localhost:8080/"
    },
    "id": "85924bc3",
    "outputId": "c965c19b-7557-435b-fbe0-b7c5938f0896"
   },
   "outputs": [
    {
     "data": {
      "text/plain": [
       "Date         False\n",
       "Open         False\n",
       "High         False\n",
       "Low          False\n",
       "Close        False\n",
       "Adj Close    False\n",
       "Volume       False\n",
       "dtype: bool"
      ]
     },
     "execution_count": 9,
     "metadata": {},
     "output_type": "execute_result"
    }
   ],
   "source": [
    "df.isna().any()"
   ]
  },
  {
   "cell_type": "code",
   "execution_count": 10,
   "id": "21711e36",
   "metadata": {
    "colab": {
     "base_uri": "https://localhost:8080/",
     "height": 300
    },
    "id": "21711e36",
    "outputId": "764b6317-05f8-4580-abc8-8fad8ad096de"
   },
   "outputs": [
    {
     "data": {
      "text/html": [
       "<div>\n",
       "<style scoped>\n",
       "    .dataframe tbody tr th:only-of-type {\n",
       "        vertical-align: middle;\n",
       "    }\n",
       "\n",
       "    .dataframe tbody tr th {\n",
       "        vertical-align: top;\n",
       "    }\n",
       "\n",
       "    .dataframe thead th {\n",
       "        text-align: right;\n",
       "    }\n",
       "</style>\n",
       "<table border=\"1\" class=\"dataframe\">\n",
       "  <thead>\n",
       "    <tr style=\"text-align: right;\">\n",
       "      <th></th>\n",
       "      <th>Open</th>\n",
       "      <th>High</th>\n",
       "      <th>Low</th>\n",
       "      <th>Close</th>\n",
       "      <th>Adj Close</th>\n",
       "      <th>Volume</th>\n",
       "    </tr>\n",
       "  </thead>\n",
       "  <tbody>\n",
       "    <tr>\n",
       "      <th>count</th>\n",
       "      <td>247.000000</td>\n",
       "      <td>247.000000</td>\n",
       "      <td>247.000000</td>\n",
       "      <td>247.000000</td>\n",
       "      <td>247.000000</td>\n",
       "      <td>2.470000e+02</td>\n",
       "    </tr>\n",
       "    <tr>\n",
       "      <th>mean</th>\n",
       "      <td>6431.275304</td>\n",
       "      <td>6487.145749</td>\n",
       "      <td>6364.068826</td>\n",
       "      <td>6427.732794</td>\n",
       "      <td>6230.667162</td>\n",
       "      <td>9.546553e+06</td>\n",
       "    </tr>\n",
       "    <tr>\n",
       "      <th>std</th>\n",
       "      <td>301.783474</td>\n",
       "      <td>301.771954</td>\n",
       "      <td>293.453199</td>\n",
       "      <td>307.246692</td>\n",
       "      <td>296.013797</td>\n",
       "      <td>4.999099e+06</td>\n",
       "    </tr>\n",
       "    <tr>\n",
       "      <th>min</th>\n",
       "      <td>5750.000000</td>\n",
       "      <td>5825.000000</td>\n",
       "      <td>5725.000000</td>\n",
       "      <td>5725.000000</td>\n",
       "      <td>5494.340332</td>\n",
       "      <td>1.824500e+06</td>\n",
       "    </tr>\n",
       "    <tr>\n",
       "      <th>25%</th>\n",
       "      <td>6225.000000</td>\n",
       "      <td>6287.500000</td>\n",
       "      <td>6200.000000</td>\n",
       "      <td>6225.000000</td>\n",
       "      <td>6046.173828</td>\n",
       "      <td>6.195750e+06</td>\n",
       "    </tr>\n",
       "    <tr>\n",
       "      <th>50%</th>\n",
       "      <td>6375.000000</td>\n",
       "      <td>6425.000000</td>\n",
       "      <td>6325.000000</td>\n",
       "      <td>6375.000000</td>\n",
       "      <td>6166.137695</td>\n",
       "      <td>8.360500e+06</td>\n",
       "    </tr>\n",
       "    <tr>\n",
       "      <th>75%</th>\n",
       "      <td>6600.000000</td>\n",
       "      <td>6650.000000</td>\n",
       "      <td>6525.000000</td>\n",
       "      <td>6600.000000</td>\n",
       "      <td>6418.061279</td>\n",
       "      <td>1.180100e+07</td>\n",
       "    </tr>\n",
       "    <tr>\n",
       "      <th>max</th>\n",
       "      <td>7225.000000</td>\n",
       "      <td>7250.000000</td>\n",
       "      <td>7125.000000</td>\n",
       "      <td>7250.000000</td>\n",
       "      <td>6957.898438</td>\n",
       "      <td>3.562910e+07</td>\n",
       "    </tr>\n",
       "  </tbody>\n",
       "</table>\n",
       "</div>"
      ],
      "text/plain": [
       "              Open         High          Low        Close    Adj Close  \\\n",
       "count   247.000000   247.000000   247.000000   247.000000   247.000000   \n",
       "mean   6431.275304  6487.145749  6364.068826  6427.732794  6230.667162   \n",
       "std     301.783474   301.771954   293.453199   307.246692   296.013797   \n",
       "min    5750.000000  5825.000000  5725.000000  5725.000000  5494.340332   \n",
       "25%    6225.000000  6287.500000  6200.000000  6225.000000  6046.173828   \n",
       "50%    6375.000000  6425.000000  6325.000000  6375.000000  6166.137695   \n",
       "75%    6600.000000  6650.000000  6525.000000  6600.000000  6418.061279   \n",
       "max    7225.000000  7250.000000  7125.000000  7250.000000  6957.898438   \n",
       "\n",
       "             Volume  \n",
       "count  2.470000e+02  \n",
       "mean   9.546553e+06  \n",
       "std    4.999099e+06  \n",
       "min    1.824500e+06  \n",
       "25%    6.195750e+06  \n",
       "50%    8.360500e+06  \n",
       "75%    1.180100e+07  \n",
       "max    3.562910e+07  "
      ]
     },
     "execution_count": 10,
     "metadata": {},
     "output_type": "execute_result"
    }
   ],
   "source": [
    "df.describe()"
   ]
  },
  {
   "cell_type": "markdown",
   "id": "3c0b7cb1",
   "metadata": {
    "id": "3c0b7cb1"
   },
   "source": [
    "Now we are going to analyze the correlation between each features in the datasets"
   ]
  },
  {
   "cell_type": "code",
   "execution_count": 11,
   "id": "47b340d9",
   "metadata": {
    "colab": {
     "base_uri": "https://localhost:8080/",
     "height": 269
    },
    "id": "47b340d9",
    "outputId": "6924fd99-aa57-428a-9f71-990f4222c69c"
   },
   "outputs": [
    {
     "data": {
      "image/png": "[encoded data removed]",
      "text/plain": [
       "<Figure size 432x288 with 2 Axes>"
      ]
     },
     "metadata": {
      "needs_background": "light"
     },
     "output_type": "display_data"
    }
   ],
   "source": [
    "sns.heatmap(df.corr(),cmap='coolwarm',annot=True,linecolor='black',linewidths=1)\n",
    "plt.show()"
   ]
  },
  {
   "cell_type": "markdown",
   "id": "1b4b73c1",
   "metadata": {
    "id": "1b4b73c1"
   },
   "source": [
    "From this datasets we know that the market is not based on the volume transaction, it's actually based on the pricing on the markets. This is normal behaviour especially in the markets price. Therefore we are going to drop the volume of the transaction. Regarding the close price and the Adjusted close price is having the similarity with the datasets. Therefore we are going to use Close and not the Adjusted Close Price. We are also deleting the date column because it's just for indexing to make it easier."
   ]
  },
  {
   "cell_type": "code",
   "execution_count": 12,
   "id": "334ba713",
   "metadata": {
    "id": "334ba713"
   },
   "outputs": [],
   "source": [
    "df.drop('Volume',axis=1,inplace=True)\n",
    "df.drop('Adj Close',axis=1,inplace=True)\n",
    "df.drop('Date',axis=1,inplace=True)"
   ]
  },
  {
   "cell_type": "markdown",
   "id": "079f4574",
   "metadata": {
    "id": "079f4574"
   },
   "source": [
    "# Splitting into dependant and independant variable"
   ]
  },
  {
   "cell_type": "code",
   "execution_count": 13,
   "id": "efb37052",
   "metadata": {
    "colab": {
     "base_uri": "https://localhost:8080/"
    },
    "id": "efb37052",
    "outputId": "871f18d0-97a5-4962-f9b1-f7ef822d5791"
   },
   "outputs": [
    {
     "data": {
      "text/html": [
       "<div>\n",
       "<style scoped>\n",
       "    .dataframe tbody tr th:only-of-type {\n",
       "        vertical-align: middle;\n",
       "    }\n",
       "\n",
       "    .dataframe tbody tr th {\n",
       "        vertical-align: top;\n",
       "    }\n",
       "\n",
       "    .dataframe thead th {\n",
       "        text-align: right;\n",
       "    }\n",
       "</style>\n",
       "<table border=\"1\" class=\"dataframe\">\n",
       "  <thead>\n",
       "    <tr style=\"text-align: right;\">\n",
       "      <th></th>\n",
       "      <th>Open</th>\n",
       "      <th>High</th>\n",
       "      <th>Low</th>\n",
       "      <th>Close</th>\n",
       "    </tr>\n",
       "  </thead>\n",
       "  <tbody>\n",
       "    <tr>\n",
       "      <th>0</th>\n",
       "      <td>6675.0</td>\n",
       "      <td>6725.0</td>\n",
       "      <td>6625.0</td>\n",
       "      <td>6650.0</td>\n",
       "    </tr>\n",
       "    <tr>\n",
       "      <th>1</th>\n",
       "      <td>6700.0</td>\n",
       "      <td>6725.0</td>\n",
       "      <td>6600.0</td>\n",
       "      <td>6675.0</td>\n",
       "    </tr>\n",
       "    <tr>\n",
       "      <th>2</th>\n",
       "      <td>6625.0</td>\n",
       "      <td>6675.0</td>\n",
       "      <td>6450.0</td>\n",
       "      <td>6475.0</td>\n",
       "    </tr>\n",
       "    <tr>\n",
       "      <th>3</th>\n",
       "      <td>6450.0</td>\n",
       "      <td>6500.0</td>\n",
       "      <td>6350.0</td>\n",
       "      <td>6400.0</td>\n",
       "    </tr>\n",
       "    <tr>\n",
       "      <th>4</th>\n",
       "      <td>6400.0</td>\n",
       "      <td>6475.0</td>\n",
       "      <td>6350.0</td>\n",
       "      <td>6350.0</td>\n",
       "    </tr>\n",
       "    <tr>\n",
       "      <th>...</th>\n",
       "      <td>...</td>\n",
       "      <td>...</td>\n",
       "      <td>...</td>\n",
       "      <td>...</td>\n",
       "    </tr>\n",
       "    <tr>\n",
       "      <th>242</th>\n",
       "      <td>6200.0</td>\n",
       "      <td>6250.0</td>\n",
       "      <td>6125.0</td>\n",
       "      <td>6225.0</td>\n",
       "    </tr>\n",
       "    <tr>\n",
       "      <th>243</th>\n",
       "      <td>6225.0</td>\n",
       "      <td>6350.0</td>\n",
       "      <td>6200.0</td>\n",
       "      <td>6350.0</td>\n",
       "    </tr>\n",
       "    <tr>\n",
       "      <th>244</th>\n",
       "      <td>6350.0</td>\n",
       "      <td>6375.0</td>\n",
       "      <td>6275.0</td>\n",
       "      <td>6275.0</td>\n",
       "    </tr>\n",
       "    <tr>\n",
       "      <th>245</th>\n",
       "      <td>6300.0</td>\n",
       "      <td>6350.0</td>\n",
       "      <td>6275.0</td>\n",
       "      <td>6300.0</td>\n",
       "    </tr>\n",
       "    <tr>\n",
       "      <th>246</th>\n",
       "      <td>6300.0</td>\n",
       "      <td>6325.0</td>\n",
       "      <td>6200.0</td>\n",
       "      <td>6200.0</td>\n",
       "    </tr>\n",
       "  </tbody>\n",
       "</table>\n",
       "<p>247 rows × 4 columns</p>\n",
       "</div>"
      ],
      "text/plain": [
       "       Open    High     Low   Close\n",
       "0    6675.0  6725.0  6625.0  6650.0\n",
       "1    6700.0  6725.0  6600.0  6675.0\n",
       "2    6625.0  6675.0  6450.0  6475.0\n",
       "3    6450.0  6500.0  6350.0  6400.0\n",
       "4    6400.0  6475.0  6350.0  6350.0\n",
       "..      ...     ...     ...     ...\n",
       "242  6200.0  6250.0  6125.0  6225.0\n",
       "243  6225.0  6350.0  6200.0  6350.0\n",
       "244  6350.0  6375.0  6275.0  6275.0\n",
       "245  6300.0  6350.0  6275.0  6300.0\n",
       "246  6300.0  6325.0  6200.0  6200.0\n",
       "\n",
       "[247 rows x 4 columns]"
      ]
     },
     "execution_count": 13,
     "metadata": {},
     "output_type": "execute_result"
    }
   ],
   "source": [
    "df"
   ]
  },
  {
   "cell_type": "code",
   "execution_count": 14,
   "id": "828b6d59",
   "metadata": {
    "id": "828b6d59"
   },
   "outputs": [],
   "source": [
    "x = df.iloc[:,0:3]"
   ]
  },
  {
   "cell_type": "code",
   "execution_count": 15,
   "id": "7f36bb82",
   "metadata": {
    "colab": {
     "base_uri": "https://localhost:8080/"
    },
    "id": "7f36bb82",
    "outputId": "be2e0742-a5f0-48f4-892d-bba8a2448dec",
    "scrolled": true
   },
   "outputs": [
    {
     "data": {
      "text/html": [
       "<div>\n",
       "<style scoped>\n",
       "    .dataframe tbody tr th:only-of-type {\n",
       "        vertical-align: middle;\n",
       "    }\n",
       "\n",
       "    .dataframe tbody tr th {\n",
       "        vertical-align: top;\n",
       "    }\n",
       "\n",
       "    .dataframe thead th {\n",
       "        text-align: right;\n",
       "    }\n",
       "</style>\n",
       "<table border=\"1\" class=\"dataframe\">\n",
       "  <thead>\n",
       "    <tr style=\"text-align: right;\">\n",
       "      <th></th>\n",
       "      <th>Open</th>\n",
       "      <th>High</th>\n",
       "      <th>Low</th>\n",
       "    </tr>\n",
       "  </thead>\n",
       "  <tbody>\n",
       "    <tr>\n",
       "      <th>0</th>\n",
       "      <td>6675.0</td>\n",
       "      <td>6725.0</td>\n",
       "      <td>6625.0</td>\n",
       "    </tr>\n",
       "    <tr>\n",
       "      <th>1</th>\n",
       "      <td>6700.0</td>\n",
       "      <td>6725.0</td>\n",
       "      <td>6600.0</td>\n",
       "    </tr>\n",
       "    <tr>\n",
       "      <th>2</th>\n",
       "      <td>6625.0</td>\n",
       "      <td>6675.0</td>\n",
       "      <td>6450.0</td>\n",
       "    </tr>\n",
       "    <tr>\n",
       "      <th>3</th>\n",
       "      <td>6450.0</td>\n",
       "      <td>6500.0</td>\n",
       "      <td>6350.0</td>\n",
       "    </tr>\n",
       "    <tr>\n",
       "      <th>4</th>\n",
       "      <td>6400.0</td>\n",
       "      <td>6475.0</td>\n",
       "      <td>6350.0</td>\n",
       "    </tr>\n",
       "    <tr>\n",
       "      <th>...</th>\n",
       "      <td>...</td>\n",
       "      <td>...</td>\n",
       "      <td>...</td>\n",
       "    </tr>\n",
       "    <tr>\n",
       "      <th>242</th>\n",
       "      <td>6200.0</td>\n",
       "      <td>6250.0</td>\n",
       "      <td>6125.0</td>\n",
       "    </tr>\n",
       "    <tr>\n",
       "      <th>243</th>\n",
       "      <td>6225.0</td>\n",
       "      <td>6350.0</td>\n",
       "      <td>6200.0</td>\n",
       "    </tr>\n",
       "    <tr>\n",
       "      <th>244</th>\n",
       "      <td>6350.0</td>\n",
       "      <td>6375.0</td>\n",
       "      <td>6275.0</td>\n",
       "    </tr>\n",
       "    <tr>\n",
       "      <th>245</th>\n",
       "      <td>6300.0</td>\n",
       "      <td>6350.0</td>\n",
       "      <td>6275.0</td>\n",
       "    </tr>\n",
       "    <tr>\n",
       "      <th>246</th>\n",
       "      <td>6300.0</td>\n",
       "      <td>6325.0</td>\n",
       "      <td>6200.0</td>\n",
       "    </tr>\n",
       "  </tbody>\n",
       "</table>\n",
       "<p>247 rows × 3 columns</p>\n",
       "</div>"
      ],
      "text/plain": [
       "       Open    High     Low\n",
       "0    6675.0  6725.0  6625.0\n",
       "1    6700.0  6725.0  6600.0\n",
       "2    6625.0  6675.0  6450.0\n",
       "3    6450.0  6500.0  6350.0\n",
       "4    6400.0  6475.0  6350.0\n",
       "..      ...     ...     ...\n",
       "242  6200.0  6250.0  6125.0\n",
       "243  6225.0  6350.0  6200.0\n",
       "244  6350.0  6375.0  6275.0\n",
       "245  6300.0  6350.0  6275.0\n",
       "246  6300.0  6325.0  6200.0\n",
       "\n",
       "[247 rows x 3 columns]"
      ]
     },
     "execution_count": 15,
     "metadata": {},
     "output_type": "execute_result"
    }
   ],
   "source": [
    "x"
   ]
  },
  {
   "cell_type": "code",
   "execution_count": 16,
   "id": "d081df75",
   "metadata": {
    "id": "d081df75"
   },
   "outputs": [],
   "source": [
    "y = df.iloc[:,3]"
   ]
  },
  {
   "cell_type": "code",
   "execution_count": 17,
   "id": "4d7ef7ea",
   "metadata": {
    "colab": {
     "base_uri": "https://localhost:8080/"
    },
    "id": "4d7ef7ea",
    "outputId": "fd6ebd98-ead2-453d-b3b9-f4bee5db4243"
   },
   "outputs": [
    {
     "data": {
      "text/plain": [
       "0      6650.0\n",
       "1      6675.0\n",
       "2      6475.0\n",
       "3      6400.0\n",
       "4      6350.0\n",
       "        ...  \n",
       "242    6225.0\n",
       "243    6350.0\n",
       "244    6275.0\n",
       "245    6300.0\n",
       "246    6200.0\n",
       "Name: Close, Length: 247, dtype: float64"
      ]
     },
     "execution_count": 17,
     "metadata": {},
     "output_type": "execute_result"
    }
   ],
   "source": [
    "y"
   ]
  },
  {
   "cell_type": "markdown",
   "id": "ec072314",
   "metadata": {
    "id": "ec072314"
   },
   "source": [
    "# Splitting into Train and Test Datasets"
   ]
  },
  {
   "cell_type": "code",
   "execution_count": 18,
   "id": "eee4f74b",
   "metadata": {
    "id": "eee4f74b"
   },
   "outputs": [],
   "source": [
    "from sklearn.model_selection import train_test_split"
   ]
  },
  {
   "cell_type": "code",
   "execution_count": 19,
   "id": "1cd9b38e",
   "metadata": {
    "id": "1cd9b38e"
   },
   "outputs": [],
   "source": [
    "x_train,x_test,y_train,y_test = train_test_split(x,y,test_size=0.3,random_state=777)"
   ]
  },
  {
   "cell_type": "markdown",
   "id": "7681b271",
   "metadata": {
    "id": "7681b271"
   },
   "source": [
    "# Training our models using Linear Regression"
   ]
  },
  {
   "cell_type": "code",
   "execution_count": 20,
   "id": "257b72fb",
   "metadata": {
    "id": "257b72fb"
   },
   "outputs": [],
   "source": [
    "from sklearn.linear_model import LinearRegression"
   ]
  },
  {
   "cell_type": "code",
   "execution_count": 21,
   "id": "0df87c15",
   "metadata": {
    "id": "0df87c15"
   },
   "outputs": [],
   "source": [
    "model = LinearRegression()"
   ]
  },
  {
   "cell_type": "code",
   "execution_count": 22,
   "id": "c6eadab8",
   "metadata": {
    "colab": {
     "base_uri": "https://localhost:8080/"
    },
    "id": "c6eadab8",
    "outputId": "61d2fecf-b20d-4938-fe78-b4b916a50467",
    "scrolled": true
   },
   "outputs": [
    {
     "data": {
      "text/plain": [
       "LinearRegression()"
      ]
     },
     "execution_count": 22,
     "metadata": {},
     "output_type": "execute_result"
    }
   ],
   "source": [
    "model.fit(x_train,y_train)"
   ]
  },
  {
   "cell_type": "markdown",
   "id": "d8ee2121",
   "metadata": {
    "id": "d8ee2121"
   },
   "source": [
    "# Testing accuracy of the models"
   ]
  },
  {
   "cell_type": "code",
   "execution_count": 23,
   "id": "4062e948",
   "metadata": {
    "id": "4062e948"
   },
   "outputs": [],
   "source": [
    "x_pred = model.predict(x_test)\n",
    "y_pred = model.predict(x_train)"
   ]
  },
  {
   "cell_type": "code",
   "execution_count": 24,
   "id": "cb6693a4",
   "metadata": {
    "colab": {
     "base_uri": "https://localhost:8080/"
    },
    "id": "cb6693a4",
    "outputId": "43019f21-9216-41df-b66d-383147c27cbb",
    "scrolled": true
   },
   "outputs": [
    {
     "name": "stdout",
     "output_type": "stream",
     "text": [
      "Machine Learning Training Accuracy Results\n",
      "--------------------------------------------\n",
      "Train Score :  0.9818439947499931\n",
      "Test Score :  0.9826494219302951\n"
     ]
    }
   ],
   "source": [
    "print(\"Machine Learning Training Accuracy Results\")\n",
    "print(\"--------------------------------------------\")\n",
    "print(\"Train Score : \",model.score(x_train,y_train))\n",
    "print(\"Test Score : \",model.score(x_test,y_test))"
   ]
  },
  {
   "cell_type": "code",
   "execution_count": 25,
   "id": "3e8d159e",
   "metadata": {
    "id": "3e8d159e"
   },
   "outputs": [],
   "source": [
    "prediction = model.predict(x_train)"
   ]
  },
  {
   "cell_type": "code",
   "execution_count": 26,
   "id": "21235771",
   "metadata": {
    "id": "21235771"
   },
   "outputs": [],
   "source": [
    "from sklearn import metrics"
   ]
  },
  {
   "cell_type": "code",
   "execution_count": 27,
   "id": "b02f9115",
   "metadata": {
    "colab": {
     "base_uri": "https://localhost:8080/"
    },
    "id": "b02f9115",
    "outputId": "090fc247-fe20-466e-8f41-4e1fe7b27780",
    "scrolled": true
   },
   "outputs": [
    {
     "name": "stdout",
     "output_type": "stream",
     "text": [
      "Training Accuracy Calculation based on certain algorithm\n",
      "----------------------------------------------------------\n",
      "R2 Square Value (R2):  0.9818439947499931\n",
      "Mean Absolute Error (MAE):  33.4348410751688\n",
      "Mean Squared Error (MSE):  1649.2094730503704\n",
      "Root Mean Squared Error (RMSE) :  5.782286837849607\n"
     ]
    }
   ],
   "source": [
    "print(\"Training Accuracy Calculation based on certain algorithm\")\n",
    "print(\"----------------------------------------------------------\")\n",
    "print(\"R2 Square Value (R2): \",metrics.r2_score(y_train,prediction))\n",
    "print(\"Mean Absolute Error (MAE): \",metrics.mean_absolute_error(y_train,prediction))\n",
    "print(\"Mean Squared Error (MSE): \",metrics.mean_squared_error(y_train,prediction))\n",
    "print(\"Root Mean Squared Error (RMSE) : \",np.sqrt(metrics.mean_absolute_error(y_train,prediction)))"
   ]
  },
  {
   "cell_type": "code",
   "execution_count": 28,
   "id": "397c754a",
   "metadata": {
    "id": "397c754a"
   },
   "outputs": [],
   "source": [
    "from sklearn.model_selection import cross_val_score"
   ]
  },
  {
   "cell_type": "code",
   "execution_count": 29,
   "id": "c817731a",
   "metadata": {
    "id": "c817731a"
   },
   "outputs": [],
   "source": [
    "score = cross_val_score(model,x_train,y_train,scoring='r2',cv=5)"
   ]
  },
  {
   "cell_type": "code",
   "execution_count": 30,
   "id": "7e6b3d12",
   "metadata": {
    "colab": {
     "base_uri": "https://localhost:8080/"
    },
    "id": "7e6b3d12",
    "outputId": "0712270b-7be0-46a3-da10-a661f48f7e85",
    "scrolled": false
   },
   "outputs": [
    {
     "name": "stdout",
     "output_type": "stream",
     "text": [
      "Overfitting and Underfitting Tests\n",
      "------------------------------------------------\n",
      "Cross Validation Accuracy : 97.84982692388212\n"
     ]
    }
   ],
   "source": [
    "print(\"Overfitting and Underfitting Tests\")\n",
    "print(\"------------------------------------------------\")\n",
    "print(\"Cross Validation Accuracy :\",score.mean() * 100)"
   ]
  },
  {
   "cell_type": "markdown",
   "id": "cbf4c893",
   "metadata": {
    "id": "cbf4c893"
   },
   "source": [
    "# Formula of the models"
   ]
  },
  {
   "cell_type": "code",
   "execution_count": 31,
   "id": "d432e6fd",
   "metadata": {
    "colab": {
     "base_uri": "https://localhost:8080/"
    },
    "id": "d432e6fd",
    "outputId": "6674dd57-db5c-4884-ffdc-0f5c8319c9b7"
   },
   "outputs": [
    {
     "name": "stdout",
     "output_type": "stream",
     "text": [
      "[-0.56631985  0.90550735  0.68835266]\n"
     ]
    }
   ],
   "source": [
    "print(model.coef_)"
   ]
  },
  {
   "cell_type": "code",
   "execution_count": 32,
   "id": "6052ed24",
   "metadata": {
    "colab": {
     "base_uri": "https://localhost:8080/"
    },
    "id": "6052ed24",
    "outputId": "d572bc68-12f5-461a-fac3-bff8802d4631",
    "scrolled": true
   },
   "outputs": [
    {
     "name": "stdout",
     "output_type": "stream",
     "text": [
      "-186.66517763786578\n"
     ]
    }
   ],
   "source": [
    "print(model.intercept_)"
   ]
  },
  {
   "cell_type": "markdown",
   "id": "f5c488ce",
   "metadata": {
    "id": "f5c488ce"
   },
   "source": [
    "So the formula for the model is the above , but just take a note for every stocks is having different models."
   ]
  },
  {
   "cell_type": "markdown",
   "id": "29e73ea1",
   "metadata": {
    "id": "29e73ea1"
   },
   "source": [
    "# Visualizing The models"
   ]
  },
  {
   "cell_type": "code",
   "execution_count": 33,
   "id": "c0f51cdd",
   "metadata": {
    "colab": {
     "base_uri": "https://localhost:8080/",
     "height": 877
    },
    "id": "c0f51cdd",
    "outputId": "1ad266e3-9f39-4a21-bedb-dfc1067bc1b8",
    "scrolled": true
   },
   "outputs": [
    {
     "data": {
      "image/png": "[encoded data removed]",
      "text/plain": [
       "<Figure size 1080x1080 with 1 Axes>"
      ]
     },
     "metadata": {
      "needs_background": "light"
     },
     "output_type": "display_data"
    }
   ],
   "source": [
    "plt.figure(figsize=(15,15))\n",
    "plt.scatter(y_train, prediction, color='red')\n",
    "begin = max(max(prediction), max(y_train))\n",
    "end = min(min(prediction), min(y_train))\n",
    "plt.plot([begin, end], [begin, end])\n",
    "plt.xlabel('Y Train')\n",
    "plt.ylabel('Predictions')\n",
    "plt.show()"
   ]
  },
  {
   "cell_type": "markdown",
   "id": "347179b0",
   "metadata": {},
   "source": [
    "# From here we will make the GUI"
   ]
  },
  {
   "cell_type": "markdown",
   "id": "31343471",
   "metadata": {},
   "source": [
    "GUI Libraries"
   ]
  },
  {
   "cell_type": "code",
   "execution_count": 34,
   "id": "719f657e",
   "metadata": {},
   "outputs": [],
   "source": [
    "import tkinter as tk\n",
    "from matplotlib.backends.backend_tkagg import FigureCanvasTkAgg"
   ]
  },
  {
   "cell_type": "code",
   "execution_count": 35,
   "id": "6f836105",
   "metadata": {},
   "outputs": [
    {
     "name": "stderr",
     "output_type": "stream",
     "text": [
      "C:\\Users\\User\\anaconda3\\lib\\site-packages\\sklearn\\base.py:450: UserWarning: X does not have valid feature names, but LinearRegression was fitted with feature names\n",
      "  warnings.warn(\n"
     ]
    }
   ],
   "source": [
    "# tkinter GUI\n",
    "root= tk.Tk()\n",
    "\n",
    "canvas1 = tk.Canvas(root, width = 500, height = 300)\n",
    "canvas1.pack()\n",
    "\n",
    "\n",
    "label_Title = tk.Label(root, text='Stock Prediction using SKLearn')\n",
    "label_Title.config(font=('Arial', 20))\n",
    "canvas1.create_window(250, 50, window=label_Title)\n",
    "\n",
    "# Creating Entry to input i\n",
    "# New_Interest_Rate label and input box\n",
    "label1 = tk.Label(root, text='Type Open Value: ')\n",
    "canvas1.create_window(140, 100, window=label1)\n",
    "entry1 = tk.Entry (root) # create 1st entry box\n",
    "canvas1.create_window(270, 100, window=entry1)\n",
    "\n",
    "# New_Unemployment_Rate label and input box\n",
    "label2 = tk.Label(root, text='Type High Value: ')\n",
    "canvas1.create_window(140, 120, window=label2)\n",
    "entry2 = tk.Entry (root) # create 2nd entry box\n",
    "canvas1.create_window(270, 120, window=entry2)\n",
    "\n",
    "label3 = tk.Label(root, text='Type Low Value: ')\n",
    "canvas1.create_window(140, 140, window=label3)\n",
    "entry3 = tk.Entry (root) # create 3rd entry box\n",
    "canvas1.create_window(270, 140, window=entry3)\n",
    "\n",
    "def Close_value(): \n",
    "    global New_Open #our 1st input variable\n",
    "    New_Open = float(entry1.get()) \n",
    "    \n",
    "    global New_High #our 2nd input variable\n",
    "    New_High = float(entry2.get()) \n",
    "    \n",
    "    global New_Low\n",
    "    New_Low = float(entry3.get())\n",
    "    \n",
    "    Prediction_result  = ('Predicted Close Value : ', model.predict([[New_Open ,New_High, New_Low]]))\n",
    "    label_Prediction = tk.Label(root, text= Prediction_result, bg='orange')\n",
    "    canvas1.create_window(260, 280, window=label_Prediction)\n",
    "    \n",
    "button1 = tk.Button (root, text='Predict Close Value',command=Close_value, bg='orange') # button to call the 'values' command above \n",
    "canvas1.create_window(270, 170, window=button1)\n",
    "\n",
    "# Plots thats show the correlation of independent variable to dependent\n",
    "figure3 = plt.Figure(figsize=(5,4), dpi=100)\n",
    "ax3 = figure3.add_subplot(111)\n",
    "ax3.scatter(df['Open'].astype(float),df['Close'].astype(float), color = 'r')\n",
    "scatter3 = FigureCanvasTkAgg(figure3, root) \n",
    "scatter3.get_tk_widget().pack(side=tk.LEFT, fill=tk.BOTH)\n",
    "ax3.legend(['Close Value']) \n",
    "ax3.set_xlabel('Open')\n",
    "ax3.set_title('Open Vs. Close Value')\n",
    "\n",
    "figure4 = plt.Figure(figsize=(5,4), dpi=100)\n",
    "ax4 = figure4.add_subplot(111)\n",
    "ax4.scatter(df['High'].astype(float),df['Close'].astype(float), color = 'g')\n",
    "scatter4 = FigureCanvasTkAgg(figure4, root) \n",
    "scatter4.get_tk_widget().pack(side=tk.LEFT, fill=tk.BOTH)\n",
    "ax4.legend(['Close Value']) \n",
    "ax4.set_xlabel('High')\n",
    "ax4.set_title('High Vs. Close Value')\n",
    "\n",
    "figure5 = plt.Figure(figsize=(5,4), dpi=100)\n",
    "ax5 = figure5.add_subplot(111)\n",
    "ax5.scatter(df['Low'].astype(float),df['Close'].astype(float), color = 'b')\n",
    "scatter5 = FigureCanvasTkAgg(figure5, root) \n",
    "scatter5.get_tk_widget().pack(side=tk.LEFT, fill=tk.BOTH)\n",
    "ax5.legend(['Close Value']) \n",
    "ax5.set_xlabel('Low')\n",
    "ax5.set_title('Low Vs. Close Value')\n",
    "\n",
    "root.mainloop()"
   ]
  },
  {
   "cell_type": "code",
   "execution_count": null,
   "id": "8333980a",
   "metadata": {},
   "outputs": [],
   "source": []
  }
 ],
 "metadata": {
  "colab": {
   "collapsed_sections": [
    "079f4574",
    "ec072314"
   ],
   "name": "Stock Prediction Revision.ipynb",
   "provenance": []
  },
  "kernelspec": {
   "display_name": "Python 3 (ipykernel)",
   "language": "python",
   "name": "python3"
  },
  "language_info": {
   "codemirror_mode": {
    "name": "ipython",
    "version": 3
   },
   "file_extension": ".py",
   "mimetype": "text/x-python",
   "name": "python",
   "nbconvert_exporter": "python",
   "pygments_lexer": "ipython3",
   "version": "3.9.7"
  },
  "varInspector": {
   "cols": {
    "lenName": 16,
    "lenType": 16,
    "lenVar": 40
   },
   "kernels_config": {
    "python": {
     "delete_cmd_postfix": "",
     "delete_cmd_prefix": "del ",
     "library": "var_list.py",
     "varRefreshCmd": "print(var_dic_list())"
    },
    "r": {
     "delete_cmd_postfix": ") ",
     "delete_cmd_prefix": "rm(",
     "library": "var_list.r",
     "varRefreshCmd": "cat(var_dic_list()) "
    }
   },
   "types_to_exclude": [
    "module",
    "function",
    "builtin_function_or_method",
    "instance",
    "_Feature"
   ],
   "window_display": false
  }
 },
 "nbformat": 4,
 "nbformat_minor": 5
}
